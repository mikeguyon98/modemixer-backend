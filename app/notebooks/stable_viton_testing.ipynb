{
 "cells": [
  {
   "cell_type": "code",
   "execution_count": 8,
   "metadata": {},
   "outputs": [
    {
     "name": "stdout",
     "output_type": "stream",
     "text": [
      "Loaded as API: https://stablevitot2gnp9xcvf-ee8c628e9032b48c.tec-s10.onthetaedgecloud.com/ ✔\n"
     ]
    },
    {
     "ename": "ValueError",
     "evalue": "This Gradio app might have multiple endpoints. Please specify an `api_name` or `fn_index`",
     "output_type": "error",
     "traceback": [
      "\u001b[0;31m---------------------------------------------------------------------------\u001b[0m",
      "\u001b[0;31mValueError\u001b[0m                                Traceback (most recent call last)",
      "\u001b[1;32m/Users/mike/Projects/DatabricksHackathon2023/ModeMixerAPI/app/notebooks/stable_viton_testing.ipynb Cell 1\u001b[0m line \u001b[0;36m4\n\u001b[1;32m      <a href='vscode-notebook-cell:/Users/mike/Projects/DatabricksHackathon2023/ModeMixerAPI/app/notebooks/stable_viton_testing.ipynb#W0sZmlsZQ%3D%3D?line=0'>1</a>\u001b[0m \u001b[39mfrom\u001b[39;00m \u001b[39mgradio_client\u001b[39;00m \u001b[39mimport\u001b[39;00m Client\n\u001b[1;32m      <a href='vscode-notebook-cell:/Users/mike/Projects/DatabricksHackathon2023/ModeMixerAPI/app/notebooks/stable_viton_testing.ipynb#W0sZmlsZQ%3D%3D?line=2'>3</a>\u001b[0m client \u001b[39m=\u001b[39m Client(\u001b[39m\"\u001b[39m\u001b[39mhttps://stablevitot2gnp9xcvf-ee8c628e9032b48c.tec-s10.onthetaedgecloud.com/\u001b[39m\u001b[39m\"\u001b[39m)\n\u001b[0;32m----> <a href='vscode-notebook-cell:/Users/mike/Projects/DatabricksHackathon2023/ModeMixerAPI/app/notebooks/stable_viton_testing.ipynb#W0sZmlsZQ%3D%3D?line=3'>4</a>\u001b[0m result \u001b[39m=\u001b[39m client\u001b[39m.\u001b[39;49mpredict(\n\u001b[1;32m      <a href='vscode-notebook-cell:/Users/mike/Projects/DatabricksHackathon2023/ModeMixerAPI/app/notebooks/stable_viton_testing.ipynb#W0sZmlsZQ%3D%3D?line=4'>5</a>\u001b[0m \t\t\t\t\u001b[39m\"\u001b[39;49m\u001b[39mhttps://raw.githubusercontent.com/gradio-app/gradio/main/test/test_files/bus.png\u001b[39;49m\u001b[39m\"\u001b[39;49m,\t\u001b[39m# str (filepath or URL to image)in 'Model' Image component\u001b[39;49;00m\n\u001b[1;32m      <a href='vscode-notebook-cell:/Users/mike/Projects/DatabricksHackathon2023/ModeMixerAPI/app/notebooks/stable_viton_testing.ipynb#W0sZmlsZQ%3D%3D?line=5'>6</a>\u001b[0m \t\t\t\t\u001b[39m\"\u001b[39;49m\u001b[39mhttps://raw.githubusercontent.com/gradio-app/gradio/main/test/test_files/bus.png\u001b[39;49m\u001b[39m\"\u001b[39;49m,\t\u001b[39m# str (filepath or URL to image)in 'Garment' Image component\u001b[39;49;00m\n\u001b[1;32m      <a href='vscode-notebook-cell:/Users/mike/Projects/DatabricksHackathon2023/ModeMixerAPI/app/notebooks/stable_viton_testing.ipynb#W0sZmlsZQ%3D%3D?line=6'>7</a>\u001b[0m )\n\u001b[1;32m      <a href='vscode-notebook-cell:/Users/mike/Projects/DatabricksHackathon2023/ModeMixerAPI/app/notebooks/stable_viton_testing.ipynb#W0sZmlsZQ%3D%3D?line=7'>8</a>\u001b[0m \u001b[39mprint\u001b[39m(result)\n",
      "File \u001b[0;32m~/Projects/DatabricksHackathon2023/ModeMixerAPI/.venv/lib/python3.12/site-packages/gradio_client/client.py:456\u001b[0m, in \u001b[0;36mClient.predict\u001b[0;34m(self, api_name, fn_index, *args, **kwargs)\u001b[0m\n\u001b[1;32m    434\u001b[0m \u001b[39mdef\u001b[39;00m \u001b[39mpredict\u001b[39m(\n\u001b[1;32m    435\u001b[0m     \u001b[39mself\u001b[39m,\n\u001b[1;32m    436\u001b[0m     \u001b[39m*\u001b[39margs,\n\u001b[0;32m   (...)\u001b[0m\n\u001b[1;32m    439\u001b[0m     \u001b[39m*\u001b[39m\u001b[39m*\u001b[39mkwargs,\n\u001b[1;32m    440\u001b[0m ) \u001b[39m-\u001b[39m\u001b[39m>\u001b[39m Any:\n\u001b[1;32m    441\u001b[0m \u001b[39m    \u001b[39m\u001b[39m\"\"\"\u001b[39;00m\n\u001b[1;32m    442\u001b[0m \u001b[39m    Calls the Gradio API and returns the result (this is a blocking call).\u001b[39;00m\n\u001b[1;32m    443\u001b[0m \n\u001b[0;32m   (...)\u001b[0m\n\u001b[1;32m    454\u001b[0m \u001b[39m        >> 9.0\u001b[39;00m\n\u001b[1;32m    455\u001b[0m \u001b[39m    \"\"\"\u001b[39;00m\n\u001b[0;32m--> 456\u001b[0m     \u001b[39mself\u001b[39;49m\u001b[39m.\u001b[39;49m_infer_fn_index(api_name, fn_index)\n\u001b[1;32m    457\u001b[0m     \u001b[39mreturn\u001b[39;00m \u001b[39mself\u001b[39m\u001b[39m.\u001b[39msubmit(\n\u001b[1;32m    458\u001b[0m         \u001b[39m*\u001b[39margs, api_name\u001b[39m=\u001b[39mapi_name, fn_index\u001b[39m=\u001b[39mfn_index, \u001b[39m*\u001b[39m\u001b[39m*\u001b[39mkwargs\n\u001b[1;32m    459\u001b[0m     )\u001b[39m.\u001b[39mresult()\n",
      "File \u001b[0;32m~/Projects/DatabricksHackathon2023/ModeMixerAPI/.venv/lib/python3.12/site-packages/gradio_client/client.py:809\u001b[0m, in \u001b[0;36mClient._infer_fn_index\u001b[0;34m(self, api_name, fn_index)\u001b[0m\n\u001b[1;32m    807\u001b[0m         inferred_fn_index \u001b[39m=\u001b[39m valid_endpoints[\u001b[39m0\u001b[39m]\u001b[39m.\u001b[39mfn_index\n\u001b[1;32m    808\u001b[0m     \u001b[39melse\u001b[39;00m:\n\u001b[0;32m--> 809\u001b[0m         \u001b[39mraise\u001b[39;00m \u001b[39mValueError\u001b[39;00m(\n\u001b[1;32m    810\u001b[0m             \u001b[39m\"\u001b[39m\u001b[39mThis Gradio app might have multiple endpoints. Please specify an `api_name` or `fn_index`\u001b[39m\u001b[39m\"\u001b[39m\n\u001b[1;32m    811\u001b[0m         )\n\u001b[1;32m    812\u001b[0m \u001b[39mreturn\u001b[39;00m inferred_fn_index\n",
      "\u001b[0;31mValueError\u001b[0m: This Gradio app might have multiple endpoints. Please specify an `api_name` or `fn_index`"
     ]
    }
   ],
   "source": [
    "from gradio_client import Client\n",
    "\n",
    "client = Client(\"https://stablevitot2gnp9xcvf-ee8c628e9032b48c.tec-s10.onthetaedgecloud.com/\")\n",
    "result = client.predict(\n",
    "\t\t\t\t\"https://raw.githubusercontent.com/gradio-app/gradio/main/test/test_files/bus.png\",\t# str (filepath or URL to image)in 'Model' Image component\n",
    "\t\t\t\t\"https://raw.githubusercontent.com/gradio-app/gradio/main/test/test_files/bus.png\",\t# str (filepath or URL to image)in 'Garment' Image component\n",
    "\t\t\t\tfn_index=2\n",
    ")\n",
    "print(result)"
   ]
  },
  {
   "cell_type": "code",
   "execution_count": null,
   "metadata": {},
   "outputs": [],
   "source": []
  }
 ],
 "metadata": {
  "kernelspec": {
   "display_name": ".venv",
   "language": "python",
   "name": "python3"
  },
  "language_info": {
   "codemirror_mode": {
    "name": "ipython",
    "version": 3
   },
   "file_extension": ".py",
   "mimetype": "text/x-python",
   "name": "python",
   "nbconvert_exporter": "python",
   "pygments_lexer": "ipython3",
   "version": "3.12.3"
  }
 },
 "nbformat": 4,
 "nbformat_minor": 2
}
