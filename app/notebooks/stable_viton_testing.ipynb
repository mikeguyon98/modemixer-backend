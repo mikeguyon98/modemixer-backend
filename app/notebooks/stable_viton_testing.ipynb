{
 "cells": [
  {
   "cell_type": "code",
   "execution_count": 16,
   "metadata": {},
   "outputs": [
    {
     "name": "stdout",
     "output_type": "stream",
     "text": [
      "Loaded as API: https://stablevitot2gnp9xcvf-ee8c628e9032b48c.tec-s10.onthetaedgecloud.com/ ✔\n",
      "/var/folders/5v/y3nh3nc1151_lynl3y3kzxk80000gq/T/gradio/3cc069c443307acbf5c97de9c766e4bfd58f4928/tmpjulag4ld.png\n"
     ]
    }
   ],
   "source": [
    "from gradio_client import Client\n",
    "\n",
    "client = Client(\"https://stablevitot2gnp9xcvf-ee8c628e9032b48c.tec-s10.onthetaedgecloud.com/\")\n",
    "result = client.predict(\n",
    "\t\t\t\t\"./woman_test.jpeg\",\t# str (filepath or URL to image)in 'Model' Image component\n",
    "\t\t\t\t\"./test_v2.jpg\",\t# str (filepath or URL to image)in 'Garment' Image component\n",
    "\t\t\t\t10,\t# int | float (numeric value between 10 and 50)in 'Steps' Slider component\n",
    "\t\t\t\tFalse,\t# bool in 'customized model' Checkbox component\n",
    "\t\t\t\tfn_index=2\n",
    ")\n",
    "print(result)"
   ]
  },
  {
   "cell_type": "code",
   "execution_count": null,
   "metadata": {},
   "outputs": [],
   "source": []
  }
 ],
 "metadata": {
  "kernelspec": {
   "display_name": ".venv",
   "language": "python",
   "name": "python3"
  },
  "language_info": {
   "codemirror_mode": {
    "name": "ipython",
    "version": 3
   },
   "file_extension": ".py",
   "mimetype": "text/x-python",
   "name": "python",
   "nbconvert_exporter": "python",
   "pygments_lexer": "ipython3",
   "version": "3.12.3"
  }
 },
 "nbformat": 4,
 "nbformat_minor": 2
}
